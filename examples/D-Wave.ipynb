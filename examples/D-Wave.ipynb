{
 "cells": [
  {
   "cell_type": "markdown",
   "metadata": {},
   "source": [
    "# Using pyQBTNs with D-Wave"
   ]
  },
  {
   "cell_type": "markdown",
   "metadata": {},
   "source": [
    "## Setup D-Wave"
   ]
  },
  {
   "cell_type": "markdown",
   "metadata": {},
   "source": [
    "To be able to use pyQBTNs with D-Wave, we first need to create an account and setup a configuration file."
   ]
  },
  {
   "cell_type": "markdown",
   "metadata": {},
   "source": [
    "1. Sign up with [D-Wave Leap](https://cloud.dwavesys.com/leap/signup/).\n",
    "    - Make sure that you have at least 1 minute of QPU time on your free acccount.\n",
    "2. Set up [D-Wave config file](https://docs.ocean.dwavesys.com/en/stable/overview/sapi.html):\n",
    "    - Configuration file can be created using the command line tool. It will prompt several questions:\n",
    "    ```shell\n",
    "    dwave config create\n",
    "    ```\n",
    "    \n",
    "    - It will ask for configuration path. Provide the path or leave empty and press enter: \n",
    "    ```shell\n",
    "    Configuration file path:\n",
    "    ```\n",
    "    \n",
    "    - Type ```new``` if it asks for *Profile* or choose from the provided list: \n",
    "    ```shell\n",
    "    Profile (create new or choose from: prod): new\n",
    "    ```\n",
    "    \n",
    "    - Next, it will ask for API entpoint URL. You can get the URL from *D-Wave* dashboard:\n",
    "    ```shell\n",
    "    API endpoint URL [skip]: https://cloud.dwavesys.com/sapi/\n",
    "    ```\n",
    "    \n",
    "    - Next, it will prompt for authentication token. Your token can be found in *D-Wave* dashboard under *API Token*:\n",
    "    ```shell\n",
    "    Authentication token [skip]:TOKEN\n",
    "    ```\n",
    "    \n",
    "    - After the token is provided, you will be prompted to enter a client class name. We will use *qpu*:\n",
    "    ```\n",
    "    Default client class [skip]: qpu\n",
    "    ```\n",
    "    \n",
    "    - Now we need to enter the solver name. You can choose a solver from your *D-Wave* solver dashboard under *Available Solvers*. Since we are using the *QPU* class, example solver names could be *Advantage_system1.1* or *DW_2000Q_6*. Note that these names could change; therefore, see the *D-Wave* dashboard to get the solver name:\n",
    "    ```shell\n",
    "    Default client class [skip]: DW_2000Q_6\n",
    "    ```\n"
   ]
  },
  {
   "cell_type": "markdown",
   "metadata": {},
   "source": [
    "## Create a Example Matrix"
   ]
  },
  {
   "cell_type": "code",
   "execution_count": 3,
   "metadata": {},
   "outputs": [],
   "source": [
    "import numpy as np\n",
    "np.random.seed(42)\n",
    "\n",
    "p = 0.6\n",
    "N1 = 20\n",
    "N2 = 20\n",
    "RANK = 4\n",
    "A = np.random.choice(a=[False, True], size=(N1, RANK), p=[p, 1-p])\n",
    "B = np.random.choice(a=[False, True], size=(RANK, N2), p=[p, 1-p])"
   ]
  },
  {
   "cell_type": "code",
   "execution_count": 4,
   "metadata": {},
   "outputs": [
    {
     "data": {
      "text/plain": [
       "(20, 20)"
      ]
     },
     "execution_count": 4,
     "metadata": {},
     "output_type": "execute_result"
    }
   ],
   "source": [
    "X = np.matmul(A, B)\n",
    "X.shape"
   ]
  },
  {
   "cell_type": "markdown",
   "metadata": {},
   "source": [
    "## Factorize the Tensor using D-Wave"
   ]
  },
  {
   "cell_type": "code",
   "execution_count": 5,
   "metadata": {},
   "outputs": [],
   "source": [
    "from pyQBTNs import QBTNs\n",
    "\n",
    "qbtns = QBTNs(factorization_method=\"Matrix_Factorization\", \n",
    "              solver_method=\"d-wave\", \n",
    "              random_state=42)"
   ]
  },
  {
   "cell_type": "code",
   "execution_count": 5,
   "metadata": {},
   "outputs": [],
   "source": [
    "qbtns.fit(X, Rank=RANK)"
   ]
  },
  {
   "cell_type": "code",
   "execution_count": 6,
   "metadata": {},
   "outputs": [
    {
     "data": {
      "text/plain": [
       "0"
      ]
     },
     "execution_count": 6,
     "metadata": {},
     "output_type": "execute_result"
    }
   ],
   "source": [
    "qbtns.get_score()"
   ]
  },
  {
   "cell_type": "code",
   "execution_count": 7,
   "metadata": {},
   "outputs": [
    {
     "data": {
      "text/plain": [
       "(array([[ True,  True, False, False],\n",
       "        [False, False, False,  True],\n",
       "        [ True,  True,  True,  True],\n",
       "        [False, False,  True, False],\n",
       "        [False, False, False, False],\n",
       "        [False, False,  True, False],\n",
       "        [False,  True, False, False],\n",
       "        [ True, False, False, False],\n",
       "        [ True,  True, False,  True],\n",
       "        [ True, False, False, False],\n",
       "        [False, False, False,  True],\n",
       "        [False,  True, False, False],\n",
       "        [ True, False, False,  True],\n",
       "        [ True,  True,  True,  True],\n",
       "        [False, False, False, False],\n",
       "        [ True, False, False, False],\n",
       "        [False, False, False,  True],\n",
       "        [ True,  True, False, False],\n",
       "        [ True,  True, False,  True],\n",
       "        [False, False,  True, False]]),\n",
       " array([[ True,  True, False, False, False, False,  True,  True, False,\n",
       "         False, False, False, False, False,  True, False, False,  True,\n",
       "         False,  True],\n",
       "        [False,  True, False, False,  True, False, False,  True, False,\n",
       "         False, False, False,  True,  True,  True,  True,  True, False,\n",
       "          True, False],\n",
       "        [ True,  True, False, False, False, False,  True,  True,  True,\n",
       "         False, False,  True,  True, False,  True, False, False, False,\n",
       "         False, False],\n",
       "        [ True, False, False, False, False, False,  True, False, False,\n",
       "         False,  True, False, False, False,  True, False,  True,  True,\n",
       "         False,  True]]))"
      ]
     },
     "execution_count": 7,
     "metadata": {},
     "output_type": "execute_result"
    }
   ],
   "source": [
    "qbtns.get_factors()"
   ]
  },
  {
   "cell_type": "code",
   "execution_count": null,
   "metadata": {},
   "outputs": [],
   "source": []
  }
 ],
 "metadata": {
  "kernelspec": {
   "display_name": "pyQBTNs",
   "language": "python",
   "name": "pyqbtns"
  },
  "language_info": {
   "codemirror_mode": {
    "name": "ipython",
    "version": 3
   },
   "file_extension": ".py",
   "mimetype": "text/x-python",
   "name": "python",
   "nbconvert_exporter": "python",
   "pygments_lexer": "ipython3",
   "version": "3.7.3"
  }
 },
 "nbformat": 4,
 "nbformat_minor": 4
}
