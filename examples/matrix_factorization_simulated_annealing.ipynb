{
 "cells": [
  {
   "cell_type": "markdown",
   "metadata": {},
   "source": [
    "# Matrix Factorization with pyQBTNs using Classical Simulated Annealing"
   ]
  },
  {
   "cell_type": "code",
   "execution_count": 33,
   "metadata": {},
   "outputs": [
    {
     "data": {
      "text/plain": [
       "(10, 10)"
      ]
     },
     "execution_count": 33,
     "metadata": {},
     "output_type": "execute_result"
    }
   ],
   "source": [
    "from pyQBTNs import QBTNs\n",
    "import numpy as np\n",
    "\n",
    "qbtns_1 = QBTNs(factorization_method=\"Matrix_Factorization\", solver_method=\"classical-simulated-annealing\",\n",
    "              random_state=13, \n",
    "              maximum_iterations=2)\n",
    "\n",
    "\n",
    "\n",
    "p = 0.5\n",
    "N1 = 10\n",
    "N2 = 10\n",
    "RANK = 8\n",
    "\n",
    "np.random.seed(42)\n",
    "A = np.random.choice(a=[False, True], size=(N1, RANK), p=[p, 1-p])\n",
    "B = np.random.choice(a=[False, True], size=(RANK, N2), p=[p, 1-p])\n",
    "X = np.matmul(A, B)\n",
    "X.shape"
   ]
  },
  {
   "cell_type": "code",
   "execution_count": 34,
   "metadata": {},
   "outputs": [
    {
     "data": {
      "text/plain": [
       "0"
      ]
     },
     "execution_count": 34,
     "metadata": {},
     "output_type": "execute_result"
    }
   ],
   "source": [
    "qbtns_1.fit(X, RANK)\n",
    "M1 = qbtns_1.get_factors()\n",
    "qbtns_1.get_score()"
   ]
  },
  {
   "cell_type": "code",
   "execution_count": 35,
   "metadata": {},
   "outputs": [
    {
     "data": {
      "text/plain": [
       "(10, 10)"
      ]
     },
     "execution_count": 35,
     "metadata": {},
     "output_type": "execute_result"
    }
   ],
   "source": [
    "qbtns_2 = QBTNs(factorization_method=\"Matrix_Factorization\", solver_method=\"classical-simulated-annealing\",\n",
    "              random_state=40, \n",
    "              maximum_iterations=2)\n",
    "\n",
    "\n",
    "\n",
    "p = 0.5\n",
    "N1 = 10\n",
    "N2 = 10\n",
    "RANK = 8\n",
    "\n",
    "np.random.seed(42)\n",
    "A = np.random.choice(a=[False, True], size=(N1, RANK), p=[p, 1-p])\n",
    "B = np.random.choice(a=[False, True], size=(RANK, N2), p=[p, 1-p])\n",
    "X = np.matmul(A, B)\n",
    "X.shape"
   ]
  },
  {
   "cell_type": "code",
   "execution_count": 36,
   "metadata": {},
   "outputs": [
    {
     "data": {
      "text/plain": [
       "0"
      ]
     },
     "execution_count": 36,
     "metadata": {},
     "output_type": "execute_result"
    }
   ],
   "source": [
    "qbtns_2.fit(X, RANK)\n",
    "M2 = qbtns_2.get_factors()\n",
    "qbtns_2.get_score()"
   ]
  },
  {
   "cell_type": "markdown",
   "metadata": {},
   "source": [
    "Different random seeds used so the latent factors should not be equal before converging:"
   ]
  },
  {
   "cell_type": "code",
   "execution_count": 37,
   "metadata": {},
   "outputs": [
    {
     "data": {
      "text/plain": [
       "False"
      ]
     },
     "execution_count": 37,
     "metadata": {},
     "output_type": "execute_result"
    }
   ],
   "source": [
    "np.array_equal(M2[0], M1[0])"
   ]
  },
  {
   "cell_type": "code",
   "execution_count": 38,
   "metadata": {},
   "outputs": [
    {
     "data": {
      "text/plain": [
       "False"
      ]
     },
     "execution_count": 38,
     "metadata": {},
     "output_type": "execute_result"
    }
   ],
   "source": [
    "np.array_equal(M2[1], M1[1])"
   ]
  },
  {
   "cell_type": "code",
   "execution_count": null,
   "metadata": {},
   "outputs": [],
   "source": []
  }
 ],
 "metadata": {
  "kernelspec": {
   "display_name": "pyQBTNs",
   "language": "python",
   "name": "pyqbtns"
  },
  "language_info": {
   "codemirror_mode": {
    "name": "ipython",
    "version": 3
   },
   "file_extension": ".py",
   "mimetype": "text/x-python",
   "name": "python",
   "nbconvert_exporter": "python",
   "pygments_lexer": "ipython3",
   "version": "3.7.3"
  }
 },
 "nbformat": 4,
 "nbformat_minor": 4
}
